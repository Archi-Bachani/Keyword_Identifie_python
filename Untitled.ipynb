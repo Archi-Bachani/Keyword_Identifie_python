{
 "cells": [
  {
   "cell_type": "code",
   "execution_count": 25,
   "id": "377f5028-d70e-4dbf-b523-877591bb89b7",
   "metadata": {
    "scrolled": true
   },
   "outputs": [],
   "source": [
    "import pandas as pd\n",
    "import numpy as np\n"
   ]
  },
  {
   "cell_type": "code",
   "execution_count": 26,
   "id": "dcc4af37-99c6-4e79-8cc1-0f48b167fc8e",
   "metadata": {
    "scrolled": true
   },
   "outputs": [],
   "source": [
    "df = pd.read_csv('Search_Frequency_Sample.csv', header = 1)"
   ]
  },
  {
   "cell_type": "code",
   "execution_count": 27,
   "id": "585bad52-4a23-405b-994f-6d459560569e",
   "metadata": {},
   "outputs": [],
   "source": [
    "%run face_keywords.ipynb\n",
    "\t\n"
   ]
  },
  {
   "cell_type": "code",
   "execution_count": 28,
   "id": "66621f69-d543-4b74-830c-d3af6f76e8e4",
   "metadata": {},
   "outputs": [],
   "source": [
    "def is_for_face(product_name):\n",
    "    if isinstance(product_name, str):\n",
    "        \n",
    "        for keyword in face_keywords:\n",
    "            if keyword.lower() in product_name.lower():\n",
    "                return 'Yes'\n",
    "    return 'No'"
   ]
  },
  {
   "cell_type": "code",
   "execution_count": 29,
   "id": "aaba2b3a-264f-4fce-bd3d-2459e147fe8f",
   "metadata": {},
   "outputs": [],
   "source": [
    "df['Keyword Identifier'] = df['Search Term'].apply(is_for_face)"
   ]
  },
  {
   "cell_type": "code",
   "execution_count": 30,
   "id": "30e72002-6b67-4f0c-b9a4-6538db7fd73e",
   "metadata": {},
   "outputs": [],
   "source": [
    "df.to_csv('modified_data.csv', index=False)"
   ]
  },
  {
   "cell_type": "code",
   "execution_count": null,
   "id": "239d1917-6e46-4e3f-bece-06c3441dae34",
   "metadata": {},
   "outputs": [],
   "source": []
  },
  {
   "cell_type": "code",
   "execution_count": null,
   "id": "4c77b9d2-b44f-418a-b2a7-ebc5bd4b73ef",
   "metadata": {},
   "outputs": [],
   "source": []
  }
 ],
 "metadata": {
  "kernelspec": {
   "display_name": "Python 3 (ipykernel)",
   "language": "python",
   "name": "python3"
  },
  "language_info": {
   "codemirror_mode": {
    "name": "ipython",
    "version": 3
   },
   "file_extension": ".py",
   "mimetype": "text/x-python",
   "name": "python",
   "nbconvert_exporter": "python",
   "pygments_lexer": "ipython3",
   "version": "3.12.1"
  }
 },
 "nbformat": 4,
 "nbformat_minor": 5
}
